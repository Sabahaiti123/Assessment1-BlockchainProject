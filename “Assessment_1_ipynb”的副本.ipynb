{
  "cells": [
    {
      "cell_type": "markdown",
      "metadata": {
        "id": "view-in-github",
        "colab_type": "text"
      },
      "source": [
        "<a href=\"https://colab.research.google.com/github/Sabahaiti123/Assessment2-BlockchainProject/blob/main/%E2%80%9CAssessment_1_ipynb%E2%80%9D%E7%9A%84%E5%89%AF%E6%9C%AC.ipynb\" target=\"_parent\"><img src=\"https://colab.research.google.com/assets/colab-badge.svg\" alt=\"Open In Colab\"/></a>"
      ]
    },
    {
      "cell_type": "code",
      "execution_count": 1,
      "metadata": {
        "id": "Gv7x7Ety0GYj",
        "outputId": "0d5c454f-a971-4daf-938f-76f52a99002e",
        "colab": {
          "base_uri": "https://localhost:8080/"
        }
      },
      "outputs": [
        {
          "output_type": "stream",
          "name": "stdout",
          "text": [
            "Mining block 1...\n",
            "Mining block 2...\n",
            "\n",
            "Blockchain validity: None\n",
            "Block 0 | Hash: 13da7872b87d53f455b7de535221e6c429f0e2f14984a79d8ccfa81ffac1316a | Previous Hash: 0\n"
          ]
        }
      ],
      "source": [
        "import hashlib\n",
        "import time\n",
        "\n",
        "class Block:\n",
        "    \"\"\"\n",
        "    Represents a single block in the blockchain.\n",
        "    Each block contains an index, timestamp, data, proof, its own hash, and the hash of the previous block to maintain linkage.\n",
        "    \"\"\"\n",
        "    def __init__(self, index, previous_hash, timestamp, data, proof):\n",
        "        self.index = index # Block number in the chain\n",
        "        self.previous_hash = previous_hash #Stores the hash of the previous block in the chain\n",
        "        self.timestamp = timestamp #Time the block was created\n",
        "        self.data = data #Transaction or arbitrary data input\n",
        "        self.proof = proof #proof of work\n",
        "        self.hash = self.calculate_hash() #This block's hash value\n",
        "\n",
        "    def calculate_hash(self):\n",
        "        # Combine all key values of the block into a string\n",
        "        block_string = f\"{self.index}{self.previous_hash}{self.timestamp}{self.data}{self.proof}\"\n",
        "        # Encode the string and calculate the SHA-256 hash\n",
        "        return hashlib.sha256(block_string.encode()).hexdigest()\n",
        "\n",
        "\n",
        "\n",
        "\n",
        "class Blockchain:\n",
        "    \"\"\"\n",
        "    This class represents the entire blockchain system.\n",
        "    It handles all the blocks and operations like adding blocks, linking them, and checking the chain.\n",
        "    \"\"\"\n",
        "    def __init__(self):\n",
        "        self.chain = [self.create_genesis_block()] #Start with first block\n",
        "        self.difficulty = 4  # Number of leading zeros required in a valid hash (Proof of Work)\n",
        "\n",
        "    def create_genesis_block(self):\n",
        "        \"\"\"\n",
        "        This method creates the first block in the blockchain.\n",
        "        It doesn't have a real previous block, so we just use \"0\".\n",
        "        Data is set as \"Genesis Block\" by default\n",
        "        \"\"\"\n",
        "        return Block(\n",
        "            index=0,\n",
        "            previous_hash=\"0\",\n",
        "            timestamp=time.time(),\n",
        "            data=\"Genesis Block\",\n",
        "            proof=0\n",
        "        )\n",
        "\n",
        "    def get_latest_block(self):\n",
        "        \"\"\"\n",
        "        This method returns the most recent block in the blockchain.\n",
        "        It's usually used when we want to add a new block and need the latest hash.\n",
        "        \"\"\"\n",
        "        return self.chain[-1]\n",
        "\n",
        "    def add_block(self, new_block):\n",
        "        \"\"\"\n",
        "        This method adds a new block to the blockchain. Before appending, it links the new block to the previous one by updating its previous_hash.\n",
        "        After setting the previous-hash, it recalculates the block's own hash and then adds it to the chain.\n",
        "        \"\"\"\n",
        "\n",
        "        # Add a new block to the chain by assigning the latest block's hash\n",
        "        new_block.previous_hash = self.get_latest_block().hash\n",
        "        # Since the previous hash changed, we must recalculate this block's hash\n",
        "        new_block.hash = new_block.calculate_hash()\n",
        "        # Finally, append the block to the chain\n",
        "        self.chain.append(new_block)\n",
        "\n",
        "    def proof_of_work(self, block):\n",
        "        # TODO: Implement the proof-of-work algorithm\n",
        "        # Hint: Increment the proof value until the block's hash starts with the required number of leading zeros\n",
        "        pass\n",
        "\n",
        "    def add_data(self, data):\n",
        "        # TODO: Create a new block with the provided data, perform proof of work, and add it to the chain\n",
        "        pass\n",
        "\n",
        "    def is_chain_valid(self):\n",
        "        # TODO: Validate the integrity of the blockchain\n",
        "        # Hint: Check that each block's hash is correct and that the previous_hash matches the hash of the previous block\n",
        "        pass\n",
        "\n",
        "\n",
        "# Example Usage\n",
        "if __name__ == \"__main__\":\n",
        "    blockchain = Blockchain()\n",
        "\n",
        "    print(\"Mining block 1...\")\n",
        "    blockchain.add_data(\"Transaction data for Block 1\")\n",
        "\n",
        "    print(\"Mining block 2...\")\n",
        "    blockchain.add_data(\"Transaction data for Block 2\")\n",
        "\n",
        "    print(\"\\nBlockchain validity:\", blockchain.is_chain_valid())\n",
        "\n",
        "    for block in blockchain.chain:\n",
        "        print(f\"Block {block.index} | Hash: {block.hash} | Previous Hash: {block.previous_hash}\")"
      ]
    },
    {
      "cell_type": "code",
      "execution_count": null,
      "metadata": {
        "id": "rqZtCUzvLg5B"
      },
      "outputs": [],
      "source": []
    },
    {
      "cell_type": "code",
      "execution_count": null,
      "metadata": {
        "id": "mTP9zYWBLg8h"
      },
      "outputs": [],
      "source": []
    },
    {
      "cell_type": "code",
      "execution_count": null,
      "metadata": {
        "id": "vtnLtYNULg-s"
      },
      "outputs": [],
      "source": []
    }
  ],
  "metadata": {
    "colab": {
      "provenance": [],
      "include_colab_link": true
    },
    "kernelspec": {
      "display_name": "Python 3",
      "name": "python3"
    },
    "language_info": {
      "name": "python"
    }
  },
  "nbformat": 4,
  "nbformat_minor": 0
}