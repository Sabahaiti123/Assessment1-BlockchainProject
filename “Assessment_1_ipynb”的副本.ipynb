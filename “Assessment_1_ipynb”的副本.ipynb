{
 "cells": [
  {
   "cell_type": "markdown",
   "metadata": {
    "colab_type": "text",
    "id": "view-in-github"
   },
   "source": [
    "<a href=\"https://colab.research.google.com/github/Sabahaiti123/Assessment2-BlockchainProject/blob/main/%E2%80%9CAssessment_1_ipynb%E2%80%9D%E7%9A%84%E5%89%AF%E6%9C%AC.ipynb\" target=\"_parent\"><img src=\"https://colab.research.google.com/assets/colab-badge.svg\" alt=\"Open In Colab\"/></a>"
   ]
  },
  {
   "cell_type": "code",
   "execution_count": null,
   "metadata": {
    "id": "Gv7x7Ety0GYj"
   },
   "outputs": [],
   "source": [
    "import hashlib\n",
    "import time\n",
    "\n",
    "class Block:\n",
    "    \"\"\"\n",
    "    Represents a single block in the blockchain.\n",
    "    Each block contains an index, timestamp, data, proof, its own hash, and the hash of the previous block to maintain linkage.\n",
    "    \"\"\"\n",
    "    def __init__(self, index, previous_hash, timestamp, data, proof):\n",
    "        self.index = index # Block number in the chain\n",
    "        self.previous_hash = previous_hash #Stores the hash of the previous block in the chain\n",
    "        self.timestamp = timestamp #Time the block was created\n",
    "        self.data = data #Transaction or arbitrary data input\n",
    "        self.proof = proof #proof of work\n",
    "        self.hash = self.calculate_hash() #Current block's hash value\n",
    "\n",
    "    def calculate_hash(self):\n",
    "        # Combine all key values of the block into a string\n",
    "        block_string = f\"{self.index}{self.previous_hash}{self.timestamp}{self.data}{self.proof}\"\n",
    "        # Encode the string and calculate the SHA-256 hash\n",
    "        return hashlib.sha256(block_string.encode()).hexdigest()\n",
    "\n",
    "\n",
    "\n",
    "\n",
    "class Blockchain:\n",
    "    def __init__(self):\n",
    "        self.chain = [self.create_genesis_block()]\n",
    "        self.difficulty = 4  # Number of leading zeros required in the hash\n",
    "\n",
    "    def create_genesis_block(self):\n",
    "        # TODO: Create and return the genesis block (the first block in the chain)\n",
    "        pass\n",
    "\n",
    "    def get_latest_block(self):\n",
    "        # TODO: Return the latest block in the chain\n",
    "        pass\n",
    "\n",
    "    def add_block(self, new_block):\n",
    "        # TODO: Add a new block to the chain\n",
    "        # Hint: Set the new block's previous_hash to the hash of the latest block\n",
    "        pass\n",
    "\n",
    "    def proof_of_work(self, block):\n",
    "        # TODO: Implement the proof-of-work algorithm\n",
    "        # Hint: Increment the proof value until the block's hash starts with the required number of leading zeros\n",
    "        pass\n",
    "\n",
    "    def add_data(self, data):\n",
    "        # TODO: Create a new block with the provided data, perform proof of work, and add it to the chain\n",
    "        pass\n",
    "\n",
    "    def is_chain_valid(self):\n",
    "        # TODO: Validate the integrity of the blockchain\n",
    "        # Hint: Check that each block's hash is correct and that the previous_hash matches the hash of the previous block\n",
    "        pass\n",
    "\n",
    "\n",
    "# Example Usage\n",
    "if __name__ == \"__main__\":\n",
    "    blockchain = Blockchain()\n",
    "\n",
    "    print(\"Mining block 1...\")\n",
    "    blockchain.add_data(\"Transaction data for Block 1\")\n",
    "\n",
    "    print(\"Mining block 2...\")\n",
    "    blockchain.add_data(\"Transaction data for Block 2\")\n",
    "\n",
    "    print(\"\\nBlockchain validity:\", blockchain.is_chain_valid())\n",
    "\n",
    "    for block in blockchain.chain:\n",
    "        print(f\"Block {block.index} | Hash: {block.hash} | Previous Hash: {block.previous_hash}\")"
   ]
  },
  {
   "cell_type": "code",
   "execution_count": null,
   "metadata": {
    "id": "rqZtCUzvLg5B"
   },
   "outputs": [],
   "source": []
  },
  {
   "cell_type": "code",
   "execution_count": null,
   "metadata": {
    "id": "mTP9zYWBLg8h"
   },
   "outputs": [],
   "source": []
  },
  {
   "cell_type": "code",
   "execution_count": null,
   "metadata": {
    "id": "vtnLtYNULg-s"
   },
   "outputs": [],
   "source": []
  }
 ],
 "metadata": {
  "colab": {
   "include_colab_link": true,
   "provenance": []
  },
  "kernelspec": {
   "display_name": "Python 3",
   "name": "python3"
  },
  "language_info": {
   "name": "python"
  }
 },
 "nbformat": 4,
 "nbformat_minor": 0
}
